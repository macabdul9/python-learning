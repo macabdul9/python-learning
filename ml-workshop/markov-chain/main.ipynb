{
  "cells": [
    {
      "cell_type": "code",
      "execution_count": 1,
      "metadata": {
        "pycharm": {}
      },
      "outputs": [],
      "source": [
        "d \u003d {\n",
        "    \u0027abdul\u0027: {\n",
        "        \u0027rollno\u0027 : 1,\n",
        "        \u0027enroll\u0027: 19\n",
        "    }\n",
        "}\n"
      ]
    },
    {
      "cell_type": "code",
      "execution_count": 2,
      "metadata": {
        "pycharm": {}
      },
      "outputs": [
        {
          "data": {
            "text/plain": [
              "1"
            ]
          },
          "execution_count": 2,
          "metadata": {},
          "output_type": "execute_result"
        }
      ],
      "source": [
        "d[\u0027abdul\u0027][\u0027rollno\u0027]\n"
      ]
    },
    {
      "cell_type": "code",
      "execution_count": 16,
      "metadata": {
        "pycharm": {}
      },
      "outputs": [],
      "source": [
        "def createtable(input_str, k \u003d 3):\n",
        "    # create the tabledictionary which store the next char (freq) of chunk of length k\n",
        "    table \u003d {}\n",
        "    for i in range(0, len(input_str) - k):\n",
        "        x \u003d input_str[i : i + k]\n",
        "        y \u003d input_str[i + k]\n",
        "        \n",
        "        # if we have seen the chunk earlier \n",
        "        if x in table:\n",
        "            # if we have same char earlier after the chunk\n",
        "            if y in table[x]:\n",
        "                table[x][y] +\u003d 1\n",
        "            # if we got a different char \n",
        "            else:\n",
        "                table[x][y] \u003d 1\n",
        "        # if we haven\u0027t seen this chunk earlier \n",
        "        else:\n",
        "            table[x] \u003d {\n",
        "                y : 1\n",
        "            }\n",
        "        return table"
      ]
    },
    {
      "cell_type": "code",
      "execution_count": 17,
      "metadata": {
        "pycharm": {}
      },
      "outputs": [
        {
          "data": {
            "text/plain": [
              "{\u0027hel\u0027: {\u0027l\u0027: 1}}"
            ]
          },
          "execution_count": 17,
          "metadata": {},
          "output_type": "execute_result"
        }
      ],
      "source": [
        "createtable(\u0027hello hello world world !\u0027)"
      ]
    },
    {
      "cell_type": "code",
      "execution_count": 20,
      "metadata": {
        "pycharm": {}
      },
      "outputs": [
        {
          "data": {
            "text/plain": [
              "{\u0027hel\u0027: {\u0027l\u0027: 1}}"
            ]
          },
          "execution_count": 20,
          "metadata": {},
          "output_type": "execute_result"
        }
      ],
      "source": [
        "input_data \u003d \"hellohelloworldworld \"\n",
        "createtable(input_data)"
      ]
    },
    {
      "cell_type": "code",
      "execution_count": 21,
      "metadata": {
        "pycharm": {}
      },
      "outputs": [
        {
          "data": {
            "text/plain": [
              "{\u0027hel\u0027: {\u0027l\u0027: 1}}"
            ]
          },
          "execution_count": 21,
          "metadata": {},
          "output_type": "execute_result"
        }
      ],
      "source": [
        "createtable(input_data, 3)"
      ]
    },
    {
      "cell_type": "code",
      "execution_count": 22,
      "metadata": {
        "pycharm": {}
      },
      "outputs": [
        {
          "name": "stdout",
          "output_type": "stream",
          "text": [
            "Requirement already satisfied: numpy in /home/macab/.local/lib/python3.5/site-packages (1.16.2)\r\n"
          ]
        }
      ],
      "source": [
        "!pip install numpy"
      ]
    },
    {
      "cell_type": "code",
      "execution_count": 23,
      "metadata": {
        "pycharm": {}
      },
      "outputs": [
        {
          "name": "stdout",
          "output_type": "stream",
          "text": [
            "Collecting cv2\n",
            "\u001b[31m  Could not find a version that satisfies the requirement cv2 (from versions: )\u001b[0m\n",
            "\u001b[31mNo matching distribution found for cv2\u001b[0m\n"
          ]
        }
      ],
      "source": [
        "!pip install cv2\n"
      ]
    },
    {
      "cell_type": "code",
      "execution_count": null,
      "metadata": {
        "pycharm": {}
      },
      "outputs": [],
      "source": "\n\n# cblk/maitml\n# email: jk@cblk\n# github: jatinkatyal13\n\n\n# freelancer \n"
    }
  ],
  "metadata": {
    "kernelspec": {
      "display_name": "Python 3",
      "language": "python",
      "name": "python3"
    },
    "language_info": {
      "codemirror_mode": {
        "name": "ipython",
        "version": 3
      },
      "file_extension": ".py",
      "mimetype": "text/x-python",
      "name": "python",
      "nbconvert_exporter": "python",
      "pygments_lexer": "ipython3",
      "version": "3.5.3"
    }
  },
  "nbformat": 4,
  "nbformat_minor": 2
}