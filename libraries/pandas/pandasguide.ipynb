{
 "cells": [
  {
   "cell_type": "code",
   "execution_count": 2,
   "metadata": {},
   "outputs": [
    {
     "name": "stdout",
     "output_type": "stream",
     "text": [
      "Collecting pandas\n",
      "  Using cached https://files.pythonhosted.org/packages/74/24/0cdbf8907e1e3bc5a8da03345c23cbed7044330bb8f73bb12e711a640a00/pandas-0.24.2-cp35-cp35m-manylinux1_x86_64.whl\n",
      "Requirement already satisfied, skipping upgrade: python-dateutil>=2.5.0 in /home/macab/.local/lib/python3.5/site-packages (from pandas) (2.8.0)\n",
      "Requirement already satisfied, skipping upgrade: numpy>=1.12.0 in /home/macab/.local/lib/python3.5/site-packages (from pandas) (1.16.2)\n",
      "Requirement already satisfied, skipping upgrade: pytz>=2011k in /home/macab/.local/lib/python3.5/site-packages (from pandas) (2018.5)\n",
      "Requirement already satisfied, skipping upgrade: six>=1.5 in /home/macab/.local/lib/python3.5/site-packages (from python-dateutil>=2.5.0->pandas) (1.12.0)\n",
      "Installing collected packages: pandas\n",
      "  Found existing installation: pandas 0.23.4\n",
      "    Uninstalling pandas-0.23.4:\n",
      "      Successfully uninstalled pandas-0.23.4\n",
      "Successfully installed pandas-0.24.2\n"
     ]
    }
   ],
   "source": [
    "!pip3 install --upgrade pandas --user"
   ]
  },
  {
   "cell_type": "code",
   "execution_count": 3,
   "metadata": {},
   "outputs": [],
   "source": [
    "import numpy as np\n",
    "import pandas as pd"
   ]
  },
  {
   "cell_type": "code",
   "execution_count": 4,
   "metadata": {},
   "outputs": [],
   "source": [
    "# creating series with pandas\n",
    "df = pd.Series([1, 2, 3, None, 4, 5])"
   ]
  },
  {
   "cell_type": "code",
   "execution_count": 5,
   "metadata": {},
   "outputs": [
    {
     "data": {
      "text/plain": [
       "0    1.0\n",
       "1    2.0\n",
       "2    3.0\n",
       "3    NaN\n",
       "4    4.0\n",
       "5    5.0\n",
       "dtype: float64"
      ]
     },
     "execution_count": 5,
     "metadata": {},
     "output_type": "execute_result"
    }
   ],
   "source": [
    "df"
   ]
  },
  {
   "cell_type": "code",
   "execution_count": 6,
   "metadata": {},
   "outputs": [],
   "source": [
    "# date range with pandas\n",
    "dates = pd.date_range('20190422', periods = 10)"
   ]
  },
  {
   "cell_type": "code",
   "execution_count": 7,
   "metadata": {},
   "outputs": [
    {
     "data": {
      "text/plain": [
       "DatetimeIndex(['2019-04-22', '2019-04-23', '2019-04-24', '2019-04-25',\n",
       "               '2019-04-26', '2019-04-27', '2019-04-28', '2019-04-29',\n",
       "               '2019-04-30', '2019-05-01'],\n",
       "              dtype='datetime64[ns]', freq='D')"
      ]
     },
     "execution_count": 7,
     "metadata": {},
     "output_type": "execute_result"
    }
   ],
   "source": [
    "dates"
   ]
  },
  {
   "cell_type": "code",
   "execution_count": 65,
   "metadata": {},
   "outputs": [
    {
     "data": {
      "text/html": [
       "<div>\n",
       "<style scoped>\n",
       "    .dataframe tbody tr th:only-of-type {\n",
       "        vertical-align: middle;\n",
       "    }\n",
       "\n",
       "    .dataframe tbody tr th {\n",
       "        vertical-align: top;\n",
       "    }\n",
       "\n",
       "    .dataframe thead th {\n",
       "        text-align: right;\n",
       "    }\n",
       "</style>\n",
       "<table border=\"1\" class=\"dataframe\">\n",
       "  <thead>\n",
       "    <tr style=\"text-align: right;\">\n",
       "      <th></th>\n",
       "      <th>A</th>\n",
       "      <th>B</th>\n",
       "      <th>C</th>\n",
       "      <th>D</th>\n",
       "      <th>E</th>\n",
       "    </tr>\n",
       "  </thead>\n",
       "  <tbody>\n",
       "    <tr>\n",
       "      <th>2019-04-22</th>\n",
       "      <td>-0.896732</td>\n",
       "      <td>0.701088</td>\n",
       "      <td>0.312122</td>\n",
       "      <td>-0.379543</td>\n",
       "      <td>0.171208</td>\n",
       "    </tr>\n",
       "    <tr>\n",
       "      <th>2019-04-23</th>\n",
       "      <td>1.409705</td>\n",
       "      <td>0.437338</td>\n",
       "      <td>-0.957897</td>\n",
       "      <td>1.575929</td>\n",
       "      <td>1.094739</td>\n",
       "    </tr>\n",
       "    <tr>\n",
       "      <th>2019-04-24</th>\n",
       "      <td>0.463464</td>\n",
       "      <td>-1.536647</td>\n",
       "      <td>-0.038579</td>\n",
       "      <td>-0.928893</td>\n",
       "      <td>1.827883</td>\n",
       "    </tr>\n",
       "    <tr>\n",
       "      <th>2019-04-25</th>\n",
       "      <td>-1.651785</td>\n",
       "      <td>-1.113018</td>\n",
       "      <td>0.044344</td>\n",
       "      <td>0.147904</td>\n",
       "      <td>1.675341</td>\n",
       "    </tr>\n",
       "    <tr>\n",
       "      <th>2019-04-26</th>\n",
       "      <td>-1.710959</td>\n",
       "      <td>-0.161950</td>\n",
       "      <td>0.943994</td>\n",
       "      <td>-1.006920</td>\n",
       "      <td>0.361375</td>\n",
       "    </tr>\n",
       "    <tr>\n",
       "      <th>2019-04-27</th>\n",
       "      <td>-0.181850</td>\n",
       "      <td>0.046758</td>\n",
       "      <td>-0.105863</td>\n",
       "      <td>-0.623476</td>\n",
       "      <td>-0.345921</td>\n",
       "    </tr>\n",
       "    <tr>\n",
       "      <th>2019-04-28</th>\n",
       "      <td>-0.746807</td>\n",
       "      <td>1.894709</td>\n",
       "      <td>-0.871592</td>\n",
       "      <td>-0.559985</td>\n",
       "      <td>0.497124</td>\n",
       "    </tr>\n",
       "    <tr>\n",
       "      <th>2019-04-29</th>\n",
       "      <td>-0.668608</td>\n",
       "      <td>-0.631488</td>\n",
       "      <td>-0.634165</td>\n",
       "      <td>-1.657923</td>\n",
       "      <td>-0.918958</td>\n",
       "    </tr>\n",
       "    <tr>\n",
       "      <th>2019-04-30</th>\n",
       "      <td>0.273995</td>\n",
       "      <td>0.814009</td>\n",
       "      <td>2.261732</td>\n",
       "      <td>-1.757712</td>\n",
       "      <td>1.001920</td>\n",
       "    </tr>\n",
       "    <tr>\n",
       "      <th>2019-05-01</th>\n",
       "      <td>-0.587191</td>\n",
       "      <td>0.369154</td>\n",
       "      <td>-0.773440</td>\n",
       "      <td>-0.326795</td>\n",
       "      <td>-0.818682</td>\n",
       "    </tr>\n",
       "  </tbody>\n",
       "</table>\n",
       "</div>"
      ],
      "text/plain": [
       "                   A         B         C         D         E\n",
       "2019-04-22 -0.896732  0.701088  0.312122 -0.379543  0.171208\n",
       "2019-04-23  1.409705  0.437338 -0.957897  1.575929  1.094739\n",
       "2019-04-24  0.463464 -1.536647 -0.038579 -0.928893  1.827883\n",
       "2019-04-25 -1.651785 -1.113018  0.044344  0.147904  1.675341\n",
       "2019-04-26 -1.710959 -0.161950  0.943994 -1.006920  0.361375\n",
       "2019-04-27 -0.181850  0.046758 -0.105863 -0.623476 -0.345921\n",
       "2019-04-28 -0.746807  1.894709 -0.871592 -0.559985  0.497124\n",
       "2019-04-29 -0.668608 -0.631488 -0.634165 -1.657923 -0.918958\n",
       "2019-04-30  0.273995  0.814009  2.261732 -1.757712  1.001920\n",
       "2019-05-01 -0.587191  0.369154 -0.773440 -0.326795 -0.818682"
      ]
     },
     "execution_count": 65,
     "metadata": {},
     "output_type": "execute_result"
    }
   ],
   "source": [
    "df = pd.DataFrame(np.random.randn(10, 5), index = dates, columns = list('ABCDE'))\n",
    "# the above process is called data genration and organizing data into strucutred manner\n",
    "df"
   ]
  },
  {
   "cell_type": "code",
   "execution_count": 66,
   "metadata": {},
   "outputs": [],
   "source": [
    "# Creating a DataFrame by passing a dict of objects that can be converted to series-like\n",
    "\n",
    "df2 = pd.DataFrame({\n",
    "                     'A':pd.Timestamp('20190423'),\n",
    "                     'B':1.,\n",
    "                     'C': pd.Series(1, index=list(range(4)), dtype='float32'),\n",
    "                     'D': np.array([3] * 4, dtype='int32'),\n",
    "                     'E': pd.Categorical([\"test\", \"train\", \"test\", \"train\"]),\n",
    "                     'F': 'foo'\n",
    "    })"
   ]
  },
  {
   "cell_type": "code",
   "execution_count": 67,
   "metadata": {},
   "outputs": [
    {
     "data": {
      "text/html": [
       "<div>\n",
       "<style scoped>\n",
       "    .dataframe tbody tr th:only-of-type {\n",
       "        vertical-align: middle;\n",
       "    }\n",
       "\n",
       "    .dataframe tbody tr th {\n",
       "        vertical-align: top;\n",
       "    }\n",
       "\n",
       "    .dataframe thead th {\n",
       "        text-align: right;\n",
       "    }\n",
       "</style>\n",
       "<table border=\"1\" class=\"dataframe\">\n",
       "  <thead>\n",
       "    <tr style=\"text-align: right;\">\n",
       "      <th></th>\n",
       "      <th>A</th>\n",
       "      <th>B</th>\n",
       "      <th>C</th>\n",
       "      <th>D</th>\n",
       "      <th>E</th>\n",
       "      <th>F</th>\n",
       "    </tr>\n",
       "  </thead>\n",
       "  <tbody>\n",
       "    <tr>\n",
       "      <th>0</th>\n",
       "      <td>2019-04-23</td>\n",
       "      <td>1.0</td>\n",
       "      <td>1.0</td>\n",
       "      <td>3</td>\n",
       "      <td>test</td>\n",
       "      <td>foo</td>\n",
       "    </tr>\n",
       "    <tr>\n",
       "      <th>1</th>\n",
       "      <td>2019-04-23</td>\n",
       "      <td>1.0</td>\n",
       "      <td>1.0</td>\n",
       "      <td>3</td>\n",
       "      <td>train</td>\n",
       "      <td>foo</td>\n",
       "    </tr>\n",
       "    <tr>\n",
       "      <th>2</th>\n",
       "      <td>2019-04-23</td>\n",
       "      <td>1.0</td>\n",
       "      <td>1.0</td>\n",
       "      <td>3</td>\n",
       "      <td>test</td>\n",
       "      <td>foo</td>\n",
       "    </tr>\n",
       "    <tr>\n",
       "      <th>3</th>\n",
       "      <td>2019-04-23</td>\n",
       "      <td>1.0</td>\n",
       "      <td>1.0</td>\n",
       "      <td>3</td>\n",
       "      <td>train</td>\n",
       "      <td>foo</td>\n",
       "    </tr>\n",
       "  </tbody>\n",
       "</table>\n",
       "</div>"
      ],
      "text/plain": [
       "           A    B    C  D      E    F\n",
       "0 2019-04-23  1.0  1.0  3   test  foo\n",
       "1 2019-04-23  1.0  1.0  3  train  foo\n",
       "2 2019-04-23  1.0  1.0  3   test  foo\n",
       "3 2019-04-23  1.0  1.0  3  train  foo"
      ]
     },
     "execution_count": 67,
     "metadata": {},
     "output_type": "execute_result"
    }
   ],
   "source": [
    "df2"
   ]
  },
  {
   "cell_type": "code",
   "execution_count": 68,
   "metadata": {},
   "outputs": [
    {
     "data": {
      "text/plain": [
       "A    datetime64[ns]\n",
       "B           float64\n",
       "C           float32\n",
       "D             int32\n",
       "E          category\n",
       "F            object\n",
       "dtype: object"
      ]
     },
     "execution_count": 68,
     "metadata": {},
     "output_type": "execute_result"
    }
   ],
   "source": [
    "df2.dtypes"
   ]
  },
  {
   "cell_type": "code",
   "execution_count": 69,
   "metadata": {},
   "outputs": [
    {
     "data": {
      "text/html": [
       "<div>\n",
       "<style scoped>\n",
       "    .dataframe tbody tr th:only-of-type {\n",
       "        vertical-align: middle;\n",
       "    }\n",
       "\n",
       "    .dataframe tbody tr th {\n",
       "        vertical-align: top;\n",
       "    }\n",
       "\n",
       "    .dataframe thead th {\n",
       "        text-align: right;\n",
       "    }\n",
       "</style>\n",
       "<table border=\"1\" class=\"dataframe\">\n",
       "  <thead>\n",
       "    <tr style=\"text-align: right;\">\n",
       "      <th></th>\n",
       "      <th>A</th>\n",
       "      <th>B</th>\n",
       "      <th>C</th>\n",
       "      <th>D</th>\n",
       "      <th>E</th>\n",
       "    </tr>\n",
       "  </thead>\n",
       "  <tbody>\n",
       "    <tr>\n",
       "      <th>2019-04-22</th>\n",
       "      <td>-0.896732</td>\n",
       "      <td>0.701088</td>\n",
       "      <td>0.312122</td>\n",
       "      <td>-0.379543</td>\n",
       "      <td>0.171208</td>\n",
       "    </tr>\n",
       "    <tr>\n",
       "      <th>2019-04-23</th>\n",
       "      <td>1.409705</td>\n",
       "      <td>0.437338</td>\n",
       "      <td>-0.957897</td>\n",
       "      <td>1.575929</td>\n",
       "      <td>1.094739</td>\n",
       "    </tr>\n",
       "    <tr>\n",
       "      <th>2019-04-24</th>\n",
       "      <td>0.463464</td>\n",
       "      <td>-1.536647</td>\n",
       "      <td>-0.038579</td>\n",
       "      <td>-0.928893</td>\n",
       "      <td>1.827883</td>\n",
       "    </tr>\n",
       "    <tr>\n",
       "      <th>2019-04-25</th>\n",
       "      <td>-1.651785</td>\n",
       "      <td>-1.113018</td>\n",
       "      <td>0.044344</td>\n",
       "      <td>0.147904</td>\n",
       "      <td>1.675341</td>\n",
       "    </tr>\n",
       "    <tr>\n",
       "      <th>2019-04-26</th>\n",
       "      <td>-1.710959</td>\n",
       "      <td>-0.161950</td>\n",
       "      <td>0.943994</td>\n",
       "      <td>-1.006920</td>\n",
       "      <td>0.361375</td>\n",
       "    </tr>\n",
       "  </tbody>\n",
       "</table>\n",
       "</div>"
      ],
      "text/plain": [
       "                   A         B         C         D         E\n",
       "2019-04-22 -0.896732  0.701088  0.312122 -0.379543  0.171208\n",
       "2019-04-23  1.409705  0.437338 -0.957897  1.575929  1.094739\n",
       "2019-04-24  0.463464 -1.536647 -0.038579 -0.928893  1.827883\n",
       "2019-04-25 -1.651785 -1.113018  0.044344  0.147904  1.675341\n",
       "2019-04-26 -1.710959 -0.161950  0.943994 -1.006920  0.361375"
      ]
     },
     "execution_count": 69,
     "metadata": {},
     "output_type": "execute_result"
    }
   ],
   "source": [
    "# veiwing data\n",
    "df.head()"
   ]
  },
  {
   "cell_type": "code",
   "execution_count": 70,
   "metadata": {},
   "outputs": [
    {
     "data": {
      "text/plain": [
       "DatetimeIndex(['2019-04-22', '2019-04-23', '2019-04-24', '2019-04-25',\n",
       "               '2019-04-26', '2019-04-27', '2019-04-28', '2019-04-29',\n",
       "               '2019-04-30', '2019-05-01'],\n",
       "              dtype='datetime64[ns]', freq='D')"
      ]
     },
     "execution_count": 70,
     "metadata": {},
     "output_type": "execute_result"
    }
   ],
   "source": [
    "df.index"
   ]
  },
  {
   "cell_type": "code",
   "execution_count": 71,
   "metadata": {},
   "outputs": [
    {
     "name": "stdout",
     "output_type": "stream",
     "text": [
      "Int64Index([0, 1, 2, 3], dtype='int64')\n"
     ]
    }
   ],
   "source": [
    "print(df2.index)"
   ]
  },
  {
   "cell_type": "code",
   "execution_count": 72,
   "metadata": {},
   "outputs": [
    {
     "name": "stdout",
     "output_type": "stream",
     "text": [
      "Index(['A', 'B', 'C', 'D', 'E'], dtype='object')\n"
     ]
    }
   ],
   "source": [
    "print(df.columns)"
   ]
  },
  {
   "cell_type": "code",
   "execution_count": 73,
   "metadata": {},
   "outputs": [
    {
     "data": {
      "text/plain": [
       "(10, 5)"
      ]
     },
     "execution_count": 73,
     "metadata": {},
     "output_type": "execute_result"
    }
   ],
   "source": [
    "df.to_numpy().shape"
   ]
  },
  {
   "cell_type": "code",
   "execution_count": 74,
   "metadata": {},
   "outputs": [
    {
     "data": {
      "text/html": [
       "<div>\n",
       "<style scoped>\n",
       "    .dataframe tbody tr th:only-of-type {\n",
       "        vertical-align: middle;\n",
       "    }\n",
       "\n",
       "    .dataframe tbody tr th {\n",
       "        vertical-align: top;\n",
       "    }\n",
       "\n",
       "    .dataframe thead th {\n",
       "        text-align: right;\n",
       "    }\n",
       "</style>\n",
       "<table border=\"1\" class=\"dataframe\">\n",
       "  <thead>\n",
       "    <tr style=\"text-align: right;\">\n",
       "      <th></th>\n",
       "      <th>A</th>\n",
       "      <th>B</th>\n",
       "      <th>C</th>\n",
       "      <th>D</th>\n",
       "      <th>E</th>\n",
       "    </tr>\n",
       "  </thead>\n",
       "  <tbody>\n",
       "    <tr>\n",
       "      <th>count</th>\n",
       "      <td>10.000000</td>\n",
       "      <td>10.000000</td>\n",
       "      <td>10.000000</td>\n",
       "      <td>10.000000</td>\n",
       "      <td>10.000000</td>\n",
       "    </tr>\n",
       "    <tr>\n",
       "      <th>mean</th>\n",
       "      <td>-0.429677</td>\n",
       "      <td>0.081995</td>\n",
       "      <td>0.018066</td>\n",
       "      <td>-0.551741</td>\n",
       "      <td>0.454603</td>\n",
       "    </tr>\n",
       "    <tr>\n",
       "      <th>std</th>\n",
       "      <td>0.958786</td>\n",
       "      <td>1.001757</td>\n",
       "      <td>0.988433</td>\n",
       "      <td>0.950403</td>\n",
       "      <td>0.961769</td>\n",
       "    </tr>\n",
       "    <tr>\n",
       "      <th>min</th>\n",
       "      <td>-1.710959</td>\n",
       "      <td>-1.536647</td>\n",
       "      <td>-0.957897</td>\n",
       "      <td>-1.757712</td>\n",
       "      <td>-0.918958</td>\n",
       "    </tr>\n",
       "    <tr>\n",
       "      <th>25%</th>\n",
       "      <td>-0.859251</td>\n",
       "      <td>-0.514103</td>\n",
       "      <td>-0.738622</td>\n",
       "      <td>-0.987413</td>\n",
       "      <td>-0.216639</td>\n",
       "    </tr>\n",
       "    <tr>\n",
       "      <th>50%</th>\n",
       "      <td>-0.627899</td>\n",
       "      <td>0.207956</td>\n",
       "      <td>-0.072221</td>\n",
       "      <td>-0.591731</td>\n",
       "      <td>0.429249</td>\n",
       "    </tr>\n",
       "    <tr>\n",
       "      <th>75%</th>\n",
       "      <td>0.160034</td>\n",
       "      <td>0.635150</td>\n",
       "      <td>0.245178</td>\n",
       "      <td>-0.339982</td>\n",
       "      <td>1.071534</td>\n",
       "    </tr>\n",
       "    <tr>\n",
       "      <th>max</th>\n",
       "      <td>1.409705</td>\n",
       "      <td>1.894709</td>\n",
       "      <td>2.261732</td>\n",
       "      <td>1.575929</td>\n",
       "      <td>1.827883</td>\n",
       "    </tr>\n",
       "  </tbody>\n",
       "</table>\n",
       "</div>"
      ],
      "text/plain": [
       "               A          B          C          D          E\n",
       "count  10.000000  10.000000  10.000000  10.000000  10.000000\n",
       "mean   -0.429677   0.081995   0.018066  -0.551741   0.454603\n",
       "std     0.958786   1.001757   0.988433   0.950403   0.961769\n",
       "min    -1.710959  -1.536647  -0.957897  -1.757712  -0.918958\n",
       "25%    -0.859251  -0.514103  -0.738622  -0.987413  -0.216639\n",
       "50%    -0.627899   0.207956  -0.072221  -0.591731   0.429249\n",
       "75%     0.160034   0.635150   0.245178  -0.339982   1.071534\n",
       "max     1.409705   1.894709   2.261732   1.575929   1.827883"
      ]
     },
     "execution_count": 74,
     "metadata": {},
     "output_type": "execute_result"
    }
   ],
   "source": [
    "df.describe()"
   ]
  },
  {
   "cell_type": "code",
   "execution_count": 75,
   "metadata": {},
   "outputs": [
    {
     "data": {
      "text/html": [
       "<div>\n",
       "<style scoped>\n",
       "    .dataframe tbody tr th:only-of-type {\n",
       "        vertical-align: middle;\n",
       "    }\n",
       "\n",
       "    .dataframe tbody tr th {\n",
       "        vertical-align: top;\n",
       "    }\n",
       "\n",
       "    .dataframe thead th {\n",
       "        text-align: right;\n",
       "    }\n",
       "</style>\n",
       "<table border=\"1\" class=\"dataframe\">\n",
       "  <thead>\n",
       "    <tr style=\"text-align: right;\">\n",
       "      <th></th>\n",
       "      <th>A</th>\n",
       "      <th>B</th>\n",
       "      <th>C</th>\n",
       "      <th>D</th>\n",
       "      <th>E</th>\n",
       "    </tr>\n",
       "  </thead>\n",
       "  <tbody>\n",
       "    <tr>\n",
       "      <th>2019-04-22</th>\n",
       "      <td>-0.896732</td>\n",
       "      <td>0.701088</td>\n",
       "      <td>0.312122</td>\n",
       "      <td>-0.379543</td>\n",
       "      <td>0.171208</td>\n",
       "    </tr>\n",
       "    <tr>\n",
       "      <th>2019-04-23</th>\n",
       "      <td>1.409705</td>\n",
       "      <td>0.437338</td>\n",
       "      <td>-0.957897</td>\n",
       "      <td>1.575929</td>\n",
       "      <td>1.094739</td>\n",
       "    </tr>\n",
       "    <tr>\n",
       "      <th>2019-04-24</th>\n",
       "      <td>0.463464</td>\n",
       "      <td>-1.536647</td>\n",
       "      <td>-0.038579</td>\n",
       "      <td>-0.928893</td>\n",
       "      <td>1.827883</td>\n",
       "    </tr>\n",
       "    <tr>\n",
       "      <th>2019-04-25</th>\n",
       "      <td>-1.651785</td>\n",
       "      <td>-1.113018</td>\n",
       "      <td>0.044344</td>\n",
       "      <td>0.147904</td>\n",
       "      <td>1.675341</td>\n",
       "    </tr>\n",
       "    <tr>\n",
       "      <th>2019-04-26</th>\n",
       "      <td>-1.710959</td>\n",
       "      <td>-0.161950</td>\n",
       "      <td>0.943994</td>\n",
       "      <td>-1.006920</td>\n",
       "      <td>0.361375</td>\n",
       "    </tr>\n",
       "    <tr>\n",
       "      <th>2019-04-27</th>\n",
       "      <td>-0.181850</td>\n",
       "      <td>0.046758</td>\n",
       "      <td>-0.105863</td>\n",
       "      <td>-0.623476</td>\n",
       "      <td>-0.345921</td>\n",
       "    </tr>\n",
       "    <tr>\n",
       "      <th>2019-04-28</th>\n",
       "      <td>-0.746807</td>\n",
       "      <td>1.894709</td>\n",
       "      <td>-0.871592</td>\n",
       "      <td>-0.559985</td>\n",
       "      <td>0.497124</td>\n",
       "    </tr>\n",
       "    <tr>\n",
       "      <th>2019-04-29</th>\n",
       "      <td>-0.668608</td>\n",
       "      <td>-0.631488</td>\n",
       "      <td>-0.634165</td>\n",
       "      <td>-1.657923</td>\n",
       "      <td>-0.918958</td>\n",
       "    </tr>\n",
       "    <tr>\n",
       "      <th>2019-04-30</th>\n",
       "      <td>0.273995</td>\n",
       "      <td>0.814009</td>\n",
       "      <td>2.261732</td>\n",
       "      <td>-1.757712</td>\n",
       "      <td>1.001920</td>\n",
       "    </tr>\n",
       "    <tr>\n",
       "      <th>2019-05-01</th>\n",
       "      <td>-0.587191</td>\n",
       "      <td>0.369154</td>\n",
       "      <td>-0.773440</td>\n",
       "      <td>-0.326795</td>\n",
       "      <td>-0.818682</td>\n",
       "    </tr>\n",
       "  </tbody>\n",
       "</table>\n",
       "</div>"
      ],
      "text/plain": [
       "                   A         B         C         D         E\n",
       "2019-04-22 -0.896732  0.701088  0.312122 -0.379543  0.171208\n",
       "2019-04-23  1.409705  0.437338 -0.957897  1.575929  1.094739\n",
       "2019-04-24  0.463464 -1.536647 -0.038579 -0.928893  1.827883\n",
       "2019-04-25 -1.651785 -1.113018  0.044344  0.147904  1.675341\n",
       "2019-04-26 -1.710959 -0.161950  0.943994 -1.006920  0.361375\n",
       "2019-04-27 -0.181850  0.046758 -0.105863 -0.623476 -0.345921\n",
       "2019-04-28 -0.746807  1.894709 -0.871592 -0.559985  0.497124\n",
       "2019-04-29 -0.668608 -0.631488 -0.634165 -1.657923 -0.918958\n",
       "2019-04-30  0.273995  0.814009  2.261732 -1.757712  1.001920\n",
       "2019-05-01 -0.587191  0.369154 -0.773440 -0.326795 -0.818682"
      ]
     },
     "execution_count": 75,
     "metadata": {},
     "output_type": "execute_result"
    }
   ],
   "source": [
    "df"
   ]
  },
  {
   "cell_type": "code",
   "execution_count": 76,
   "metadata": {},
   "outputs": [
    {
     "data": {
      "text/html": [
       "<div>\n",
       "<style scoped>\n",
       "    .dataframe tbody tr th:only-of-type {\n",
       "        vertical-align: middle;\n",
       "    }\n",
       "\n",
       "    .dataframe tbody tr th {\n",
       "        vertical-align: top;\n",
       "    }\n",
       "\n",
       "    .dataframe thead th {\n",
       "        text-align: right;\n",
       "    }\n",
       "</style>\n",
       "<table border=\"1\" class=\"dataframe\">\n",
       "  <thead>\n",
       "    <tr style=\"text-align: right;\">\n",
       "      <th></th>\n",
       "      <th>2019-04-22 00:00:00</th>\n",
       "      <th>2019-04-23 00:00:00</th>\n",
       "      <th>2019-04-24 00:00:00</th>\n",
       "      <th>2019-04-25 00:00:00</th>\n",
       "      <th>2019-04-26 00:00:00</th>\n",
       "      <th>2019-04-27 00:00:00</th>\n",
       "      <th>2019-04-28 00:00:00</th>\n",
       "      <th>2019-04-29 00:00:00</th>\n",
       "      <th>2019-04-30 00:00:00</th>\n",
       "      <th>2019-05-01 00:00:00</th>\n",
       "    </tr>\n",
       "  </thead>\n",
       "  <tbody>\n",
       "    <tr>\n",
       "      <th>A</th>\n",
       "      <td>-0.896732</td>\n",
       "      <td>1.409705</td>\n",
       "      <td>0.463464</td>\n",
       "      <td>-1.651785</td>\n",
       "      <td>-1.710959</td>\n",
       "      <td>-0.181850</td>\n",
       "      <td>-0.746807</td>\n",
       "      <td>-0.668608</td>\n",
       "      <td>0.273995</td>\n",
       "      <td>-0.587191</td>\n",
       "    </tr>\n",
       "    <tr>\n",
       "      <th>B</th>\n",
       "      <td>0.701088</td>\n",
       "      <td>0.437338</td>\n",
       "      <td>-1.536647</td>\n",
       "      <td>-1.113018</td>\n",
       "      <td>-0.161950</td>\n",
       "      <td>0.046758</td>\n",
       "      <td>1.894709</td>\n",
       "      <td>-0.631488</td>\n",
       "      <td>0.814009</td>\n",
       "      <td>0.369154</td>\n",
       "    </tr>\n",
       "    <tr>\n",
       "      <th>C</th>\n",
       "      <td>0.312122</td>\n",
       "      <td>-0.957897</td>\n",
       "      <td>-0.038579</td>\n",
       "      <td>0.044344</td>\n",
       "      <td>0.943994</td>\n",
       "      <td>-0.105863</td>\n",
       "      <td>-0.871592</td>\n",
       "      <td>-0.634165</td>\n",
       "      <td>2.261732</td>\n",
       "      <td>-0.773440</td>\n",
       "    </tr>\n",
       "    <tr>\n",
       "      <th>D</th>\n",
       "      <td>-0.379543</td>\n",
       "      <td>1.575929</td>\n",
       "      <td>-0.928893</td>\n",
       "      <td>0.147904</td>\n",
       "      <td>-1.006920</td>\n",
       "      <td>-0.623476</td>\n",
       "      <td>-0.559985</td>\n",
       "      <td>-1.657923</td>\n",
       "      <td>-1.757712</td>\n",
       "      <td>-0.326795</td>\n",
       "    </tr>\n",
       "    <tr>\n",
       "      <th>E</th>\n",
       "      <td>0.171208</td>\n",
       "      <td>1.094739</td>\n",
       "      <td>1.827883</td>\n",
       "      <td>1.675341</td>\n",
       "      <td>0.361375</td>\n",
       "      <td>-0.345921</td>\n",
       "      <td>0.497124</td>\n",
       "      <td>-0.918958</td>\n",
       "      <td>1.001920</td>\n",
       "      <td>-0.818682</td>\n",
       "    </tr>\n",
       "  </tbody>\n",
       "</table>\n",
       "</div>"
      ],
      "text/plain": [
       "   2019-04-22  2019-04-23  2019-04-24  2019-04-25  2019-04-26  2019-04-27  \\\n",
       "A   -0.896732    1.409705    0.463464   -1.651785   -1.710959   -0.181850   \n",
       "B    0.701088    0.437338   -1.536647   -1.113018   -0.161950    0.046758   \n",
       "C    0.312122   -0.957897   -0.038579    0.044344    0.943994   -0.105863   \n",
       "D   -0.379543    1.575929   -0.928893    0.147904   -1.006920   -0.623476   \n",
       "E    0.171208    1.094739    1.827883    1.675341    0.361375   -0.345921   \n",
       "\n",
       "   2019-04-28  2019-04-29  2019-04-30  2019-05-01  \n",
       "A   -0.746807   -0.668608    0.273995   -0.587191  \n",
       "B    1.894709   -0.631488    0.814009    0.369154  \n",
       "C   -0.871592   -0.634165    2.261732   -0.773440  \n",
       "D   -0.559985   -1.657923   -1.757712   -0.326795  \n",
       "E    0.497124   -0.918958    1.001920   -0.818682  "
      ]
     },
     "execution_count": 76,
     "metadata": {},
     "output_type": "execute_result"
    }
   ],
   "source": [
    "# transposing data\n",
    "df.T"
   ]
  },
  {
   "cell_type": "code",
   "execution_count": 77,
   "metadata": {},
   "outputs": [],
   "source": [
    "# sort by an axis"
   ]
  },
  {
   "cell_type": "code",
   "execution_count": 78,
   "metadata": {},
   "outputs": [
    {
     "data": {
      "text/html": [
       "<div>\n",
       "<style scoped>\n",
       "    .dataframe tbody tr th:only-of-type {\n",
       "        vertical-align: middle;\n",
       "    }\n",
       "\n",
       "    .dataframe tbody tr th {\n",
       "        vertical-align: top;\n",
       "    }\n",
       "\n",
       "    .dataframe thead th {\n",
       "        text-align: right;\n",
       "    }\n",
       "</style>\n",
       "<table border=\"1\" class=\"dataframe\">\n",
       "  <thead>\n",
       "    <tr style=\"text-align: right;\">\n",
       "      <th></th>\n",
       "      <th>E</th>\n",
       "      <th>D</th>\n",
       "      <th>C</th>\n",
       "      <th>B</th>\n",
       "      <th>A</th>\n",
       "    </tr>\n",
       "  </thead>\n",
       "  <tbody>\n",
       "    <tr>\n",
       "      <th>2019-04-22</th>\n",
       "      <td>0.171208</td>\n",
       "      <td>-0.379543</td>\n",
       "      <td>0.312122</td>\n",
       "      <td>0.701088</td>\n",
       "      <td>-0.896732</td>\n",
       "    </tr>\n",
       "    <tr>\n",
       "      <th>2019-04-23</th>\n",
       "      <td>1.094739</td>\n",
       "      <td>1.575929</td>\n",
       "      <td>-0.957897</td>\n",
       "      <td>0.437338</td>\n",
       "      <td>1.409705</td>\n",
       "    </tr>\n",
       "    <tr>\n",
       "      <th>2019-04-24</th>\n",
       "      <td>1.827883</td>\n",
       "      <td>-0.928893</td>\n",
       "      <td>-0.038579</td>\n",
       "      <td>-1.536647</td>\n",
       "      <td>0.463464</td>\n",
       "    </tr>\n",
       "    <tr>\n",
       "      <th>2019-04-25</th>\n",
       "      <td>1.675341</td>\n",
       "      <td>0.147904</td>\n",
       "      <td>0.044344</td>\n",
       "      <td>-1.113018</td>\n",
       "      <td>-1.651785</td>\n",
       "    </tr>\n",
       "    <tr>\n",
       "      <th>2019-04-26</th>\n",
       "      <td>0.361375</td>\n",
       "      <td>-1.006920</td>\n",
       "      <td>0.943994</td>\n",
       "      <td>-0.161950</td>\n",
       "      <td>-1.710959</td>\n",
       "    </tr>\n",
       "    <tr>\n",
       "      <th>2019-04-27</th>\n",
       "      <td>-0.345921</td>\n",
       "      <td>-0.623476</td>\n",
       "      <td>-0.105863</td>\n",
       "      <td>0.046758</td>\n",
       "      <td>-0.181850</td>\n",
       "    </tr>\n",
       "    <tr>\n",
       "      <th>2019-04-28</th>\n",
       "      <td>0.497124</td>\n",
       "      <td>-0.559985</td>\n",
       "      <td>-0.871592</td>\n",
       "      <td>1.894709</td>\n",
       "      <td>-0.746807</td>\n",
       "    </tr>\n",
       "    <tr>\n",
       "      <th>2019-04-29</th>\n",
       "      <td>-0.918958</td>\n",
       "      <td>-1.657923</td>\n",
       "      <td>-0.634165</td>\n",
       "      <td>-0.631488</td>\n",
       "      <td>-0.668608</td>\n",
       "    </tr>\n",
       "    <tr>\n",
       "      <th>2019-04-30</th>\n",
       "      <td>1.001920</td>\n",
       "      <td>-1.757712</td>\n",
       "      <td>2.261732</td>\n",
       "      <td>0.814009</td>\n",
       "      <td>0.273995</td>\n",
       "    </tr>\n",
       "    <tr>\n",
       "      <th>2019-05-01</th>\n",
       "      <td>-0.818682</td>\n",
       "      <td>-0.326795</td>\n",
       "      <td>-0.773440</td>\n",
       "      <td>0.369154</td>\n",
       "      <td>-0.587191</td>\n",
       "    </tr>\n",
       "  </tbody>\n",
       "</table>\n",
       "</div>"
      ],
      "text/plain": [
       "                   E         D         C         B         A\n",
       "2019-04-22  0.171208 -0.379543  0.312122  0.701088 -0.896732\n",
       "2019-04-23  1.094739  1.575929 -0.957897  0.437338  1.409705\n",
       "2019-04-24  1.827883 -0.928893 -0.038579 -1.536647  0.463464\n",
       "2019-04-25  1.675341  0.147904  0.044344 -1.113018 -1.651785\n",
       "2019-04-26  0.361375 -1.006920  0.943994 -0.161950 -1.710959\n",
       "2019-04-27 -0.345921 -0.623476 -0.105863  0.046758 -0.181850\n",
       "2019-04-28  0.497124 -0.559985 -0.871592  1.894709 -0.746807\n",
       "2019-04-29 -0.918958 -1.657923 -0.634165 -0.631488 -0.668608\n",
       "2019-04-30  1.001920 -1.757712  2.261732  0.814009  0.273995\n",
       "2019-05-01 -0.818682 -0.326795 -0.773440  0.369154 -0.587191"
      ]
     },
     "execution_count": 78,
     "metadata": {},
     "output_type": "execute_result"
    }
   ],
   "source": [
    "df.sort_index(axis=1, ascending=False)"
   ]
  },
  {
   "cell_type": "code",
   "execution_count": 80,
   "metadata": {},
   "outputs": [
    {
     "data": {
      "text/html": [
       "<div>\n",
       "<style scoped>\n",
       "    .dataframe tbody tr th:only-of-type {\n",
       "        vertical-align: middle;\n",
       "    }\n",
       "\n",
       "    .dataframe tbody tr th {\n",
       "        vertical-align: top;\n",
       "    }\n",
       "\n",
       "    .dataframe thead th {\n",
       "        text-align: right;\n",
       "    }\n",
       "</style>\n",
       "<table border=\"1\" class=\"dataframe\">\n",
       "  <thead>\n",
       "    <tr style=\"text-align: right;\">\n",
       "      <th></th>\n",
       "      <th>A</th>\n",
       "      <th>B</th>\n",
       "      <th>C</th>\n",
       "      <th>D</th>\n",
       "      <th>E</th>\n",
       "    </tr>\n",
       "  </thead>\n",
       "  <tbody>\n",
       "    <tr>\n",
       "      <th>2019-04-23</th>\n",
       "      <td>1.409705</td>\n",
       "      <td>0.437338</td>\n",
       "      <td>-0.957897</td>\n",
       "      <td>1.575929</td>\n",
       "      <td>1.094739</td>\n",
       "    </tr>\n",
       "    <tr>\n",
       "      <th>2019-04-24</th>\n",
       "      <td>0.463464</td>\n",
       "      <td>-1.536647</td>\n",
       "      <td>-0.038579</td>\n",
       "      <td>-0.928893</td>\n",
       "      <td>1.827883</td>\n",
       "    </tr>\n",
       "    <tr>\n",
       "      <th>2019-04-30</th>\n",
       "      <td>0.273995</td>\n",
       "      <td>0.814009</td>\n",
       "      <td>2.261732</td>\n",
       "      <td>-1.757712</td>\n",
       "      <td>1.001920</td>\n",
       "    </tr>\n",
       "    <tr>\n",
       "      <th>2019-04-27</th>\n",
       "      <td>-0.181850</td>\n",
       "      <td>0.046758</td>\n",
       "      <td>-0.105863</td>\n",
       "      <td>-0.623476</td>\n",
       "      <td>-0.345921</td>\n",
       "    </tr>\n",
       "    <tr>\n",
       "      <th>2019-05-01</th>\n",
       "      <td>-0.587191</td>\n",
       "      <td>0.369154</td>\n",
       "      <td>-0.773440</td>\n",
       "      <td>-0.326795</td>\n",
       "      <td>-0.818682</td>\n",
       "    </tr>\n",
       "    <tr>\n",
       "      <th>2019-04-29</th>\n",
       "      <td>-0.668608</td>\n",
       "      <td>-0.631488</td>\n",
       "      <td>-0.634165</td>\n",
       "      <td>-1.657923</td>\n",
       "      <td>-0.918958</td>\n",
       "    </tr>\n",
       "    <tr>\n",
       "      <th>2019-04-28</th>\n",
       "      <td>-0.746807</td>\n",
       "      <td>1.894709</td>\n",
       "      <td>-0.871592</td>\n",
       "      <td>-0.559985</td>\n",
       "      <td>0.497124</td>\n",
       "    </tr>\n",
       "    <tr>\n",
       "      <th>2019-04-22</th>\n",
       "      <td>-0.896732</td>\n",
       "      <td>0.701088</td>\n",
       "      <td>0.312122</td>\n",
       "      <td>-0.379543</td>\n",
       "      <td>0.171208</td>\n",
       "    </tr>\n",
       "    <tr>\n",
       "      <th>2019-04-25</th>\n",
       "      <td>-1.651785</td>\n",
       "      <td>-1.113018</td>\n",
       "      <td>0.044344</td>\n",
       "      <td>0.147904</td>\n",
       "      <td>1.675341</td>\n",
       "    </tr>\n",
       "    <tr>\n",
       "      <th>2019-04-26</th>\n",
       "      <td>-1.710959</td>\n",
       "      <td>-0.161950</td>\n",
       "      <td>0.943994</td>\n",
       "      <td>-1.006920</td>\n",
       "      <td>0.361375</td>\n",
       "    </tr>\n",
       "  </tbody>\n",
       "</table>\n",
       "</div>"
      ],
      "text/plain": [
       "                   A         B         C         D         E\n",
       "2019-04-23  1.409705  0.437338 -0.957897  1.575929  1.094739\n",
       "2019-04-24  0.463464 -1.536647 -0.038579 -0.928893  1.827883\n",
       "2019-04-30  0.273995  0.814009  2.261732 -1.757712  1.001920\n",
       "2019-04-27 -0.181850  0.046758 -0.105863 -0.623476 -0.345921\n",
       "2019-05-01 -0.587191  0.369154 -0.773440 -0.326795 -0.818682\n",
       "2019-04-29 -0.668608 -0.631488 -0.634165 -1.657923 -0.918958\n",
       "2019-04-28 -0.746807  1.894709 -0.871592 -0.559985  0.497124\n",
       "2019-04-22 -0.896732  0.701088  0.312122 -0.379543  0.171208\n",
       "2019-04-25 -1.651785 -1.113018  0.044344  0.147904  1.675341\n",
       "2019-04-26 -1.710959 -0.161950  0.943994 -1.006920  0.361375"
      ]
     },
     "execution_count": 80,
     "metadata": {},
     "output_type": "execute_result"
    }
   ],
   "source": [
    "# sort by values\n",
    "df.sort_values( by = 'A', ascending = False)"
   ]
  },
  {
   "cell_type": "code",
   "execution_count": 82,
   "metadata": {},
   "outputs": [
    {
     "data": {
      "text/plain": [
       "2019-04-23    1.409705\n",
       "2019-04-24    0.463464\n",
       "2019-04-30    0.273995\n",
       "2019-04-27   -0.181850\n",
       "2019-05-01   -0.587191\n",
       "2019-04-29   -0.668608\n",
       "2019-04-28   -0.746807\n",
       "2019-04-22   -0.896732\n",
       "2019-04-25   -1.651785\n",
       "2019-04-26   -1.710959\n",
       "Name: A, dtype: float64"
      ]
     },
     "execution_count": 82,
     "metadata": {},
     "output_type": "execute_result"
    }
   ],
   "source": [
    "# selection\n",
    "df['A'].sort_values(ascending = False)"
   ]
  },
  {
   "cell_type": "code",
   "execution_count": 83,
   "metadata": {},
   "outputs": [
    {
     "data": {
      "text/html": [
       "<div>\n",
       "<style scoped>\n",
       "    .dataframe tbody tr th:only-of-type {\n",
       "        vertical-align: middle;\n",
       "    }\n",
       "\n",
       "    .dataframe tbody tr th {\n",
       "        vertical-align: top;\n",
       "    }\n",
       "\n",
       "    .dataframe thead th {\n",
       "        text-align: right;\n",
       "    }\n",
       "</style>\n",
       "<table border=\"1\" class=\"dataframe\">\n",
       "  <thead>\n",
       "    <tr style=\"text-align: right;\">\n",
       "      <th></th>\n",
       "      <th>A</th>\n",
       "      <th>B</th>\n",
       "      <th>C</th>\n",
       "      <th>D</th>\n",
       "      <th>E</th>\n",
       "    </tr>\n",
       "  </thead>\n",
       "  <tbody>\n",
       "    <tr>\n",
       "      <th>2019-04-22</th>\n",
       "      <td>-0.896732</td>\n",
       "      <td>0.701088</td>\n",
       "      <td>0.312122</td>\n",
       "      <td>-0.379543</td>\n",
       "      <td>0.171208</td>\n",
       "    </tr>\n",
       "    <tr>\n",
       "      <th>2019-04-23</th>\n",
       "      <td>1.409705</td>\n",
       "      <td>0.437338</td>\n",
       "      <td>-0.957897</td>\n",
       "      <td>1.575929</td>\n",
       "      <td>1.094739</td>\n",
       "    </tr>\n",
       "    <tr>\n",
       "      <th>2019-04-24</th>\n",
       "      <td>0.463464</td>\n",
       "      <td>-1.536647</td>\n",
       "      <td>-0.038579</td>\n",
       "      <td>-0.928893</td>\n",
       "      <td>1.827883</td>\n",
       "    </tr>\n",
       "  </tbody>\n",
       "</table>\n",
       "</div>"
      ],
      "text/plain": [
       "                   A         B         C         D         E\n",
       "2019-04-22 -0.896732  0.701088  0.312122 -0.379543  0.171208\n",
       "2019-04-23  1.409705  0.437338 -0.957897  1.575929  1.094739\n",
       "2019-04-24  0.463464 -1.536647 -0.038579 -0.928893  1.827883"
      ]
     },
     "execution_count": 83,
     "metadata": {},
     "output_type": "execute_result"
    }
   ],
   "source": [
    "# slicing\n",
    "\n",
    "df[0:3]"
   ]
  },
  {
   "cell_type": "code",
   "execution_count": 85,
   "metadata": {},
   "outputs": [
    {
     "data": {
      "text/plain": [
       "2019-04-22    0.312122\n",
       "2019-04-23   -0.957897\n",
       "2019-04-24   -0.038579\n",
       "2019-04-25    0.044344\n",
       "2019-04-26    0.943994\n",
       "2019-04-27   -0.105863\n",
       "2019-04-28   -0.871592\n",
       "2019-04-29   -0.634165\n",
       "2019-04-30    2.261732\n",
       "2019-05-01   -0.773440\n",
       "Freq: D, Name: C, dtype: float64"
      ]
     },
     "execution_count": 85,
     "metadata": {},
     "output_type": "execute_result"
    }
   ],
   "source": [
    "# selection by position !\n",
    "df['C']\n"
   ]
  },
  {
   "cell_type": "code",
   "execution_count": 86,
   "metadata": {},
   "outputs": [
    {
     "data": {
      "text/plain": [
       "A   -1.651785\n",
       "B   -1.113018\n",
       "C    0.044344\n",
       "D    0.147904\n",
       "E    1.675341\n",
       "Name: 2019-04-25 00:00:00, dtype: float64"
      ]
     },
     "execution_count": 86,
     "metadata": {},
     "output_type": "execute_result"
    }
   ],
   "source": [
    "df.iloc[3]"
   ]
  },
  {
   "cell_type": "code",
   "execution_count": 87,
   "metadata": {},
   "outputs": [
    {
     "data": {
      "text/html": [
       "<div>\n",
       "<style scoped>\n",
       "    .dataframe tbody tr th:only-of-type {\n",
       "        vertical-align: middle;\n",
       "    }\n",
       "\n",
       "    .dataframe tbody tr th {\n",
       "        vertical-align: top;\n",
       "    }\n",
       "\n",
       "    .dataframe thead th {\n",
       "        text-align: right;\n",
       "    }\n",
       "</style>\n",
       "<table border=\"1\" class=\"dataframe\">\n",
       "  <thead>\n",
       "    <tr style=\"text-align: right;\">\n",
       "      <th></th>\n",
       "      <th>A</th>\n",
       "      <th>B</th>\n",
       "      <th>C</th>\n",
       "      <th>D</th>\n",
       "      <th>E</th>\n",
       "    </tr>\n",
       "  </thead>\n",
       "  <tbody>\n",
       "    <tr>\n",
       "      <th>2019-04-22</th>\n",
       "      <td>-0.896732</td>\n",
       "      <td>0.701088</td>\n",
       "      <td>0.312122</td>\n",
       "      <td>-0.379543</td>\n",
       "      <td>0.171208</td>\n",
       "    </tr>\n",
       "    <tr>\n",
       "      <th>2019-04-23</th>\n",
       "      <td>1.409705</td>\n",
       "      <td>0.437338</td>\n",
       "      <td>-0.957897</td>\n",
       "      <td>1.575929</td>\n",
       "      <td>1.094739</td>\n",
       "    </tr>\n",
       "    <tr>\n",
       "      <th>2019-04-24</th>\n",
       "      <td>0.463464</td>\n",
       "      <td>-1.536647</td>\n",
       "      <td>-0.038579</td>\n",
       "      <td>-0.928893</td>\n",
       "      <td>1.827883</td>\n",
       "    </tr>\n",
       "    <tr>\n",
       "      <th>2019-04-25</th>\n",
       "      <td>-1.651785</td>\n",
       "      <td>-1.113018</td>\n",
       "      <td>0.044344</td>\n",
       "      <td>0.147904</td>\n",
       "      <td>1.675341</td>\n",
       "    </tr>\n",
       "    <tr>\n",
       "      <th>2019-04-26</th>\n",
       "      <td>-1.710959</td>\n",
       "      <td>-0.161950</td>\n",
       "      <td>0.943994</td>\n",
       "      <td>-1.006920</td>\n",
       "      <td>0.361375</td>\n",
       "    </tr>\n",
       "    <tr>\n",
       "      <th>2019-04-27</th>\n",
       "      <td>-0.181850</td>\n",
       "      <td>0.046758</td>\n",
       "      <td>-0.105863</td>\n",
       "      <td>-0.623476</td>\n",
       "      <td>-0.345921</td>\n",
       "    </tr>\n",
       "    <tr>\n",
       "      <th>2019-04-28</th>\n",
       "      <td>-0.746807</td>\n",
       "      <td>1.894709</td>\n",
       "      <td>-0.871592</td>\n",
       "      <td>-0.559985</td>\n",
       "      <td>0.497124</td>\n",
       "    </tr>\n",
       "    <tr>\n",
       "      <th>2019-04-29</th>\n",
       "      <td>-0.668608</td>\n",
       "      <td>-0.631488</td>\n",
       "      <td>-0.634165</td>\n",
       "      <td>-1.657923</td>\n",
       "      <td>-0.918958</td>\n",
       "    </tr>\n",
       "    <tr>\n",
       "      <th>2019-04-30</th>\n",
       "      <td>0.273995</td>\n",
       "      <td>0.814009</td>\n",
       "      <td>2.261732</td>\n",
       "      <td>-1.757712</td>\n",
       "      <td>1.001920</td>\n",
       "    </tr>\n",
       "    <tr>\n",
       "      <th>2019-05-01</th>\n",
       "      <td>-0.587191</td>\n",
       "      <td>0.369154</td>\n",
       "      <td>-0.773440</td>\n",
       "      <td>-0.326795</td>\n",
       "      <td>-0.818682</td>\n",
       "    </tr>\n",
       "  </tbody>\n",
       "</table>\n",
       "</div>"
      ],
      "text/plain": [
       "                   A         B         C         D         E\n",
       "2019-04-22 -0.896732  0.701088  0.312122 -0.379543  0.171208\n",
       "2019-04-23  1.409705  0.437338 -0.957897  1.575929  1.094739\n",
       "2019-04-24  0.463464 -1.536647 -0.038579 -0.928893  1.827883\n",
       "2019-04-25 -1.651785 -1.113018  0.044344  0.147904  1.675341\n",
       "2019-04-26 -1.710959 -0.161950  0.943994 -1.006920  0.361375\n",
       "2019-04-27 -0.181850  0.046758 -0.105863 -0.623476 -0.345921\n",
       "2019-04-28 -0.746807  1.894709 -0.871592 -0.559985  0.497124\n",
       "2019-04-29 -0.668608 -0.631488 -0.634165 -1.657923 -0.918958\n",
       "2019-04-30  0.273995  0.814009  2.261732 -1.757712  1.001920\n",
       "2019-05-01 -0.587191  0.369154 -0.773440 -0.326795 -0.818682"
      ]
     },
     "execution_count": 87,
     "metadata": {},
     "output_type": "execute_result"
    }
   ],
   "source": [
    "# Boolean Indexing\n",
    "df\n"
   ]
  },
  {
   "cell_type": "code",
   "execution_count": 89,
   "metadata": {},
   "outputs": [
    {
     "data": {
      "text/html": [
       "<div>\n",
       "<style scoped>\n",
       "    .dataframe tbody tr th:only-of-type {\n",
       "        vertical-align: middle;\n",
       "    }\n",
       "\n",
       "    .dataframe tbody tr th {\n",
       "        vertical-align: top;\n",
       "    }\n",
       "\n",
       "    .dataframe thead th {\n",
       "        text-align: right;\n",
       "    }\n",
       "</style>\n",
       "<table border=\"1\" class=\"dataframe\">\n",
       "  <thead>\n",
       "    <tr style=\"text-align: right;\">\n",
       "      <th></th>\n",
       "      <th>A</th>\n",
       "      <th>B</th>\n",
       "      <th>C</th>\n",
       "      <th>D</th>\n",
       "      <th>E</th>\n",
       "    </tr>\n",
       "  </thead>\n",
       "  <tbody>\n",
       "    <tr>\n",
       "      <th>2019-04-22</th>\n",
       "      <td>-0.896732</td>\n",
       "      <td>0.701088</td>\n",
       "      <td>0.312122</td>\n",
       "      <td>-0.379543</td>\n",
       "      <td>0.171208</td>\n",
       "    </tr>\n",
       "    <tr>\n",
       "      <th>2019-04-23</th>\n",
       "      <td>1.409705</td>\n",
       "      <td>0.437338</td>\n",
       "      <td>-0.957897</td>\n",
       "      <td>1.575929</td>\n",
       "      <td>1.094739</td>\n",
       "    </tr>\n",
       "    <tr>\n",
       "      <th>2019-04-27</th>\n",
       "      <td>-0.181850</td>\n",
       "      <td>0.046758</td>\n",
       "      <td>-0.105863</td>\n",
       "      <td>-0.623476</td>\n",
       "      <td>-0.345921</td>\n",
       "    </tr>\n",
       "    <tr>\n",
       "      <th>2019-04-28</th>\n",
       "      <td>-0.746807</td>\n",
       "      <td>1.894709</td>\n",
       "      <td>-0.871592</td>\n",
       "      <td>-0.559985</td>\n",
       "      <td>0.497124</td>\n",
       "    </tr>\n",
       "    <tr>\n",
       "      <th>2019-04-30</th>\n",
       "      <td>0.273995</td>\n",
       "      <td>0.814009</td>\n",
       "      <td>2.261732</td>\n",
       "      <td>-1.757712</td>\n",
       "      <td>1.001920</td>\n",
       "    </tr>\n",
       "    <tr>\n",
       "      <th>2019-05-01</th>\n",
       "      <td>-0.587191</td>\n",
       "      <td>0.369154</td>\n",
       "      <td>-0.773440</td>\n",
       "      <td>-0.326795</td>\n",
       "      <td>-0.818682</td>\n",
       "    </tr>\n",
       "  </tbody>\n",
       "</table>\n",
       "</div>"
      ],
      "text/plain": [
       "                   A         B         C         D         E\n",
       "2019-04-22 -0.896732  0.701088  0.312122 -0.379543  0.171208\n",
       "2019-04-23  1.409705  0.437338 -0.957897  1.575929  1.094739\n",
       "2019-04-27 -0.181850  0.046758 -0.105863 -0.623476 -0.345921\n",
       "2019-04-28 -0.746807  1.894709 -0.871592 -0.559985  0.497124\n",
       "2019-04-30  0.273995  0.814009  2.261732 -1.757712  1.001920\n",
       "2019-05-01 -0.587191  0.369154 -0.773440 -0.326795 -0.818682"
      ]
     },
     "execution_count": 89,
     "metadata": {},
     "output_type": "execute_result"
    }
   ],
   "source": [
    "df[df.B > 0]"
   ]
  },
  {
   "cell_type": "code",
   "execution_count": 93,
   "metadata": {},
   "outputs": [
    {
     "data": {
      "text/plain": [
       "A   -0.429677\n",
       "B    0.081995\n",
       "C    0.018066\n",
       "D   -0.551741\n",
       "E    0.454603\n",
       "dtype: float64"
      ]
     },
     "execution_count": 93,
     "metadata": {},
     "output_type": "execute_result"
    }
   ],
   "source": [
    "# stats\n",
    "df.mean()"
   ]
  },
  {
   "cell_type": "code",
   "execution_count": 94,
   "metadata": {},
   "outputs": [
    {
     "data": {
      "text/plain": [
       "A   -0.627899\n",
       "B    0.207956\n",
       "C   -0.072221\n",
       "D   -0.591731\n",
       "E    0.429249\n",
       "dtype: float64"
      ]
     },
     "execution_count": 94,
     "metadata": {},
     "output_type": "execute_result"
    }
   ],
   "source": [
    "df.median()"
   ]
  },
  {
   "cell_type": "code",
   "execution_count": 99,
   "metadata": {},
   "outputs": [
    {
     "data": {
      "image/png": "[encoded data removed]",
      "text/plain": [
       "<Figure size 432x288 with 1 Axes>"
      ]
     },
     "metadata": {
      "needs_background": "light"
     },
     "output_type": "display_data"
    }
   ],
   "source": [
    "# plotting data\n",
    "import matplotlib.pyplot as plt\n",
    "ts = pd.Series(np.random.randn(1000),index=pd.date_range('1/1/2000', periods=1000))\n",
    "ts = ts.cumsum()\n",
    "plt.plot(ts)\n",
    "plt.show()"
   ]
  },
  {
   "cell_type": "code",
   "execution_count": 100,
   "metadata": {},
   "outputs": [],
   "source": [
    "# another example\n",
    "df = pd.DataFrame(np.random.randn(1000, 4), index=ts.index,columns=['A', 'B', 'C', 'D'])\n",
    "df = df.cumsum()\n"
   ]
  },
  {
   "cell_type": "code",
   "execution_count": 104,
   "metadata": {},
   "outputs": [
    {
     "data": {
      "text/plain": [
       "<Figure size 432x288 with 0 Axes>"
      ]
     },
     "execution_count": 104,
     "metadata": {},
     "output_type": "execute_result"
    },
    {
     "data": {
      "text/plain": [
       "<Figure size 432x288 with 0 Axes>"
      ]
     },
     "metadata": {},
     "output_type": "display_data"
    }
   ],
   "source": [
    "plt.figure()"
   ]
  },
  {
   "cell_type": "code",
   "execution_count": 106,
   "metadata": {},
   "outputs": [
    {
     "data": {
      "text/plain": [
       "<matplotlib.axes._subplots.AxesSubplot at 0x7f1917c4cb00>"
      ]
     },
     "execution_count": 106,
     "metadata": {},
     "output_type": "execute_result"
    },
    {
     "data": {
      "image/png": "[encoded data removed]",
      "text/plain": [
       "<Figure size 432x288 with 1 Axes>"
      ]
     },
     "metadata": {
      "needs_background": "light"
     },
     "output_type": "display_data"
    }
   ],
   "source": [
    "df.plot()"
   ]
  },
  {
   "cell_type": "code",
   "execution_count": null,
   "metadata": {},
   "outputs": [],
   "source": []
  }
 ],
 "metadata": {
  "kernelspec": {
   "display_name": "Python 3",
   "language": "python",
   "name": "python3"
  },
  "language_info": {
   "codemirror_mode": {
    "name": "ipython",
    "version": 3
   },
   "file_extension": ".py",
   "mimetype": "text/x-python",
   "name": "python",
   "nbconvert_exporter": "python",
   "pygments_lexer": "ipython3",
   "version": "3.5.3"
  }
 },
 "nbformat": 4,
 "nbformat_minor": 2
}
