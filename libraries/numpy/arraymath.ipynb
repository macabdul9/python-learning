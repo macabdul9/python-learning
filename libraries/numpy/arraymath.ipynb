{
 "cells": [
  {
   "cell_type": "code",
   "execution_count": 1,
   "metadata": {},
   "outputs": [],
   "source": [
    "import numpy as np"
   ]
  },
  {
   "cell_type": "code",
   "execution_count": 11,
   "metadata": {},
   "outputs": [
    {
     "name": "stdout",
     "output_type": "stream",
     "text": [
      "[[ 4  7]\n",
      " [ 7 11]]\n",
      "[[ 4  7]\n",
      " [ 7 11]]\n"
     ]
    }
   ],
   "source": [
    "# matrix addition\n",
    "mat_1 = np.array([[1, 2], [2, 4]])\n",
    "mat_2 = np.array(([3, 5], [5, 7]))\n",
    "mat_add = mat_1 + mat_2\n",
    "print(np.add(mat_1, mat_2))\n",
    "print(mat_3)"
   ]
  },
  {
   "cell_type": "code",
   "execution_count": 7,
   "metadata": {},
   "outputs": [
    {
     "name": "stdout",
     "output_type": "stream",
     "text": [
      "[[-2 -3]\n",
      " [-3 -3]]\n"
     ]
    }
   ],
   "source": [
    "# subtraction\n",
    "mat_sub = mat_1 - mat_2\n",
    "print(mat_sub)"
   ]
  },
  {
   "cell_type": "code",
   "execution_count": 12,
   "metadata": {},
   "outputs": [
    {
     "name": "stdout",
     "output_type": "stream",
     "text": [
      "[[ 3 10]\n",
      " [10 28]]\n",
      "[[ 3 10]\n",
      " [10 28]]\n"
     ]
    }
   ],
   "source": [
    "# multiplication\n",
    "mat_mul = mat_1*mat_2\n",
    "print(mat_mul)\n",
    "print(np.multiply(mat_1, mat_2))"
   ]
  },
  {
   "cell_type": "code",
   "execution_count": 13,
   "metadata": {},
   "outputs": [
    {
     "name": "stdout",
     "output_type": "stream",
     "text": [
      "[[0.33333333 0.4       ]\n",
      " [0.4        0.57142857]]\n",
      "[[0.33333333 0.4       ]\n",
      " [0.4        0.57142857]]\n"
     ]
    }
   ],
   "source": [
    "# divide\n",
    "mat_div = mat_1/mat_2\n",
    "print(mat_div)\n",
    "print(np.divide(mat_1, mat_2))"
   ]
  },
  {
   "cell_type": "code",
   "execution_count": 16,
   "metadata": {},
   "outputs": [
    {
     "name": "stdout",
     "output_type": "stream",
     "text": [
      "[[1.         1.41421356]\n",
      " [1.41421356 2.        ]]\n"
     ]
    }
   ],
   "source": [
    "# square root of a matrix\n",
    "mat_sqrt = np.sqrt(mat_1)\n",
    "print(mat_sqrt)"
   ]
  },
  {
   "cell_type": "code",
   "execution_count": null,
   "metadata": {},
   "outputs": [],
   "source": []
  }
 ],
 "metadata": {
  "kernelspec": {
   "display_name": "Python 3",
   "language": "python",
   "name": "python3"
  },
  "language_info": {
   "codemirror_mode": {
    "name": "ipython",
    "version": 3
   },
   "file_extension": ".py",
   "mimetype": "text/x-python",
   "name": "python",
   "nbconvert_exporter": "python",
   "pygments_lexer": "ipython3",
   "version": "3.5.3"
  }
 },
 "nbformat": 4,
 "nbformat_minor": 2
}
